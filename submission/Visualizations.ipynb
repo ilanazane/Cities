{
 "cells": [
  {
   "cell_type": "code",
   "execution_count": null,
   "metadata": {},
   "outputs": [],
   "source": [
    "import pandas as pd\n",
    "import numpy as np\n",
    "import geopandas as gpd\n",
    "import matplotlib.pyplot as plt\n",
    "import contextily as ctx\n",
    "import imageio\n",
    "import os\n",
    "import math\n",
    "import folium\n",
    "import seaborn"
   ]
  },
  {
   "cell_type": "code",
   "execution_count": null,
   "metadata": {},
   "outputs": [],
   "source": [
    "pd.options.display.float_format = '{:.6f}'.format\n",
    "mta = pd.read_csv('./cleaned/cleaned_2020.csv', parse_dates=['DATE'])\n",
    "mta.set_index(['DATE'], inplace=True)"
   ]
  },
  {
   "cell_type": "code",
   "execution_count": null,
   "metadata": {},
   "outputs": [],
   "source": [
    "with pd.option_context('display.max_rows', None, 'display.max_columns', None):\n",
    "    daily_mta = mta.loc[mta.index.unique()[0], :]\n",
    "    display(daily_mta)"
   ]
  },
  {
   "cell_type": "code",
   "execution_count": null,
   "metadata": {
    "scrolled": true
   },
   "outputs": [],
   "source": [
    "map = folium.Map(location=[40.74, -73.93], zoom_start=10.2)\n",
    "for index, row in mta.loc[mta.index.unique()[0], :].iterrows():\n",
    "    folium.CircleMarker([row['LATITUDE'], row['LONGITUDE']], radius=math.log1p(row['ENTRIES_DIFF']),\n",
    "                        tooltip=row['STATION']+'\\n'+str(row['ENTRIES_DIFF']), fill=True).add_to(map)\n",
    "map"
   ]
  },
  {
   "cell_type": "code",
   "execution_count": null,
   "metadata": {},
   "outputs": [],
   "source": [
    "map.save('map.html')"
   ]
  },
  {
   "cell_type": "code",
   "execution_count": null,
   "metadata": {},
   "outputs": [],
   "source": [
    "daily_mta = mta.loc[mta.index.unique()[0], :]\n",
    "geo_mta = gpd.GeoDataFrame(daily_mta, geometry=gpd.points_from_xy(daily_mta['LONGITUDE'], daily_mta['LATITUDE']))\n",
    "geo_mta.crs = 'epsg:4326'\n",
    "geo_mta = geo_mta.to_crs(epsg=3857)\n",
    "ax = geo_mta.plot(figsize=(10, 10), color='red', alpha=0.4, markersize=geo_mta['ENTRIES_DIFF']/120)\n",
    "ctx.add_basemap(ax, source=ctx.providers.Stamen.TonerLite)\n",
    "ax.set_title('MTA Ridership by Number of Entries', fontdict={'fontsize': '20'})\n",
    "ax.set_axis_off()\n",
    "plt.savefig('./test.png', dpi=100, bbox_inches='tight')"
   ]
  },
  {
   "cell_type": "code",
   "execution_count": null,
   "metadata": {},
   "outputs": [],
   "source": [
    "# Batch process\n",
    "\n",
    "pd.options.display.float_format = '{:.6f}'.format\n",
    "\n",
    "images = []\n",
    "mta = pd.read_csv('./cleaned/cleaned_2020.csv', parse_dates=['DATE'])\n",
    "mta.set_index(['DATE'], inplace=True)\n",
    "\n",
    "for date in mta.index.unique():\n",
    "    print('\\tProcessing '+date.strftime('%m/%d/%Y'))\n",
    "    daily_mta = mta.loc[date, :]\n",
    "    geo_mta = gpd.GeoDataFrame(daily_mta, geometry=gpd.points_from_xy(daily_mta['LONGITUDE'], daily_mta['LATITUDE']))\n",
    "    geo_mta.crs = 'epsg:4326'\n",
    "    geo_mta = geo_mta.to_crs(epsg=3857)\n",
    "    ax = geo_mta.plot(figsize=(10, 10), color='red', alpha=0.4, markersize=geo_mta['ENTRIES_DIFF']/120)\n",
    "    ctx.add_basemap(ax, source=ctx.providers.Stamen.TonerLite, zoom='auto')\n",
    "    ax.set_title('MTA Ridership by Number of Entries\\n'+date.strftime('%m/%d/%Y'), fontdict={'fontsize': '20'})\n",
    "    ax.set_axis_off()\n",
    "    plt.savefig('./maps/'+date.strftime('%y%m%d')+'.jpg', dpi=100, bbox_inches='tight')\n",
    "    plt.close()\n",
    "print('Done')"
   ]
  }
 ],
 "metadata": {
  "kernelspec": {
   "display_name": "Python 3",
   "language": "python",
   "name": "python3"
  },
  "language_info": {
   "codemirror_mode": {
    "name": "ipython",
    "version": 3
   },
   "file_extension": ".py",
   "mimetype": "text/x-python",
   "name": "python",
   "nbconvert_exporter": "python",
   "pygments_lexer": "ipython3",
   "version": "3.7.7"
  }
 },
 "nbformat": 4,
 "nbformat_minor": 4
}
